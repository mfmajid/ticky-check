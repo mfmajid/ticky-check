{
 "metadata": {
  "language_info": {
   "codemirror_mode": {
    "name": "ipython",
    "version": 3
   },
   "file_extension": ".py",
   "mimetype": "text/x-python",
   "name": "python",
   "nbconvert_exporter": "python",
   "pygments_lexer": "ipython3",
   "version": "3.7.6-final"
  },
  "orig_nbformat": 2,
  "kernelspec": {
   "name": "python3",
   "display_name": "Python 3",
   "language": "python"
  }
 },
 "nbformat": 4,
 "nbformat_minor": 2,
 "cells": [
  {
   "cell_type": "code",
   "execution_count": 85,
   "metadata": {},
   "outputs": [],
   "source": [
    "import sys\n",
    "import csv\n",
    "import operator\n",
    "import re"
   ]
  },
  {
   "cell_type": "code",
   "execution_count": 86,
   "metadata": {},
   "outputs": [],
   "source": [
    "#define the per_user and error as a dictionary\n",
    "per_user = {}\n",
    "error = {}\n",
    "#define the files which needed\n",
    "log_file = \"syslog.txt\"\n",
    "error_file = 'error_message.csv'\n",
    "user_file = 'user_statistics.csv'"
   ]
  },
  {
   "cell_type": "code",
   "execution_count": 87,
   "metadata": {},
   "outputs": [],
   "source": [
    "#regex\n",
    "def regex(result):\n",
    "    #Errors Type\n",
    "    if result.group(2) not in error.keys():\n",
    "      error[result.group(2)] = 0\n",
    "    error[result.group(2)] += 1\n",
    "    #Username\n",
    "    if result.group(3) not in per_user.keys():\n",
    "      per_user[result.group(3)] = {}\n",
    "      per_user[result.group(3)][\"INFO\"] = 0\n",
    "      per_user[result.group(3)][\"ERROR\"] = 0\n",
    "    if result.group(1) == \"INFO\":\n",
    "      per_user[result.group(3)][\"INFO\"] += 1\n",
    "    elif result.group(1) == \"ERROR\":\n",
    "      per_user[result.group(3)][\"ERROR\"] += 1"
   ]
  },
  {
   "cell_type": "code",
   "execution_count": 88,
   "metadata": {},
   "outputs": [],
   "source": [
    "with open(log_file, 'r') as file:\n",
    "  for log in file:\n",
    "    pattern = r\"ticky: ([\\w]*) ([\\w' ]*) [\\[\\d#\\]]* ?\\((.*)\\)$\"\n",
    "    result = re.search(pattern, log)\n",
    "    regex(result)"
   ]
  },
  {
   "cell_type": "code",
   "execution_count": 89,
   "metadata": {},
   "outputs": [],
   "source": [
    "error = sorted(error.items(), key = operator.itemgetter(1), reverse = True)\n",
    "per_user = sorted(per_user.items())"
   ]
  },
  {
   "cell_type": "code",
   "execution_count": 90,
   "metadata": {},
   "outputs": [],
   "source": [
    "error.insert(0, ('Error', 'Count'))"
   ]
  },
  {
   "cell_type": "code",
   "execution_count": 91,
   "metadata": {},
   "outputs": [],
   "source": [
    "with open(error_file, 'w') as file:\n",
    "  for err in error:\n",
    "    typ,count = err\n",
    "    file.write(str(typ)+','+str(count)+'\\n')"
   ]
  },
  {
   "cell_type": "code",
   "execution_count": 92,
   "metadata": {},
   "outputs": [],
   "source": [
    "with open(user_file, 'w') as file:\n",
    "  file.write(\"Username,INFO,ERROR\\n\")\n",
    "  for user in per_user:\n",
    "    typ,stat = user\n",
    "    file.write(typ + ',' + str(stat['INFO']) + ',' + str(stat[\"ERROR\"]) + '\\n')"
   ]
  }
 ]
}